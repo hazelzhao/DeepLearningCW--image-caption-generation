{
 "cells": [
  {
   "cell_type": "markdown",
   "metadata": {
    "id": "RUmSb2MHEZw3"
   },
   "source": [
    "## Training the model"
   ]
  },
  {
   "cell_type": "markdown",
   "metadata": {
    "id": "uS4oN21vNKu7"
   },
   "source": [
    "The loop to train the model."
   ]
  },
  {
   "cell_type": "code",
   "execution_count": null,
   "metadata": {
    "id": "5M7KY9G3NI8l"
   },
   "outputs": [],
   "source": [
    "\n",
    "import os\n",
    "\n",
    "# Train the models\n",
    "total_step = len(train_loader)\n",
    "#for epoch in range(num_epochs):\n",
    "#for epoch=0:\n",
    "for epoch in range(num_epochs):\n",
    "    for i, (images, captions, lengths) in enumerate(train_loader):\n",
    "\n",
    "        # Set mini-batch dataset\n",
    "        images = images.to(device)\n",
    "        captions = captions.to(device)\n",
    "\n",
    "        # Packed as well as we'll compare to the decoder outputs\n",
    "        targets = pack_padded_sequence(captions, lengths, batch_first=True)[0]\n",
    "\n",
    "        # Forward, backward and optimize\n",
    "        features = encoder(images)\n",
    "        outputs = decoder(features, captions, lengths)\n",
    "\n",
    "        loss = criterion(outputs, targets)\n",
    "        \n",
    "        # Zero gradients for both networks\n",
    "        decoder.zero_grad()\n",
    "        encoder.zero_grad()\n",
    "\n",
    "        loss.backward()\n",
    "        optimizer.step()\n",
    "\n",
    "        # Print log info\n",
    "        if i % log_step == 0:\n",
    "            print('Epoch [{}/{}], Step [{}/{}], Loss: {:.4f}'\n",
    "                  .format(epoch, num_epochs, i, total_step, loss.item())) \n",
    "        # If you want to save the model checkpoints - recommended once you have everything working\n",
    "        # Make sure to save RNN and LSTM versions separately\n",
    "            if epoch % save_step == 0:\n",
    "                torch.save(decoder.state_dict(), os.path.join(model_path, 'rdecoder-{}-{}.ckpt'.format(epoch+1, i+1)))\n",
    "                torch.save(encoder.state_dict(), os.path.join(model_path, 'rencoder-{}-{}.ckpt'.format(epoch+1, i+1)))\n",
    "        "
   ]
  },
  {
   "cell_type": "code",
   "execution_count": null,
   "metadata": {
    "colab": {
     "base_uri": "https://localhost:8080/",
     "height": 67
    },
    "collapsed": true,
    "id": "0GyTBvC0SUbW",
    "outputId": "d93644e9-90d5-41c8-8d6b-db51c65e0089"
   },
   "outputs": [
    {
     "name": "stdout",
     "output_type": "stream",
     "text": [
      "tensor(2.7056)\n",
      "1.0\n",
      "0.35835554850664847\n"
     ]
    }
   ],
   "source": [
    "import torch\n",
    "import torch.utils.data as data\n",
    "import numpy as np\n",
    "import os\n",
    "import pickle\n",
    "from nltk.translate.bleu_score import sentence_bleu, SmoothingFunction\n",
    "import statistics\n",
    "model_path=F'/drive/My Drive/Colab Notebooks/Flickr8k' \n",
    "data_root='/drive/My Drive/Colab Notebooks' \n",
    "model_type =\"RNN\"\n",
    "# model_type =\"LSTM\" \n",
    "smoothing = SmoothingFunction()\n",
    "\n",
    "with open(vocab_path,'rb') as f:\n",
    "    vocab=pickle.load(f)\n",
    " #iteration from epoch 3 to 5\n",
    "if model_type == \"RNN\":\n",
    " \n",
    "   encoder_path=os.path.join(model_path,'rencoder-{}-{}.ckpt'.format(5,230))\n",
    "#    decoder_path=os.path.join(model_path,'rdecoder-{}-{}.ckpt'.format(5,230))\n",
    "else:\n",
    "#   encoder_path=os.path.join(model_path,'encoder-{}-{}.ckpt'.format(5, 140))\n",
    "  decoder_path=os.path.join(model_path,'decoder-{}-{}.ckpt'.format(5, 140))\n",
    "\n",
    "###iteration\n",
    "encoder.load_state_dict(torch.load(encoder_path))\n",
    "decoder.load_state_dict(torch.load(decoder_path)) \n",
    "encoder= encoder.to(device)\n",
    "decoder= decoder.to(device)  \n",
    "decoder.eval()\n",
    "encoder.eval()\n",
    "total_loss = []\n",
    "Score =[]\n",
    "Score_single=[]\n",
    "sentence=[]\n",
    "caption_sentence=[]\n",
    "\n",
    "with torch.no_grad():\n",
    "    for i, (images, captions, lengths) in enumerate(test_loader):\n",
    "\n",
    "        # Set mini-batch dataset\n",
    "        images = images.to(device)\n",
    "        captions = captions.to(device)\n",
    "\n",
    "        # Packed as well as we'll compare to the decoder outputs\n",
    "        targets = pack_padded_sequence(captions, lengths, batch_first=True)[0]\n",
    "\n",
    "        features = encoder(images)\n",
    "        outputs = decoder(features, captions, lengths)\n",
    "        loss = criterion(outputs, targets)\n",
    "        total_loss.append(loss)\n",
    "\n",
    "        \n",
    "        decoder.sample(features)\n",
    "        sampled_ids=decoder.sample(features)\n",
    "        \n",
    "        sampled_id=sampled_ids[0].cpu().numpy()\n",
    "    \n",
    "\n",
    "        sampled_predict = []\n",
    "        for word_id in sampled_id:\n",
    "            word = vocab.idx2word[word_id]\n",
    "            if word =='<start>': \n",
    "                continue \n",
    "            sampled_predict.append(word)\n",
    "            if word == '<end>':\n",
    "                break\n",
    "        sampled_predict=sampled_predict[:-1]\n",
    "        sentence.append(' '.join(sampled_predict))\n",
    "\n",
    "        references=[]\n",
    "        caption=captions.cpu().numpy()\n",
    "        for cap in caption:\n",
    "            reference=[]\n",
    "            for word_id in cap:\n",
    "                word = vocab.idx2word[word_id]\n",
    "                if word =='<start>': \n",
    "                    continue \n",
    "                reference.append(word)\n",
    "                if word == '<end>':\n",
    "                    break\n",
    "            reference=reference[:-1]\n",
    "            caption_sentence.append(' '.join(reference))\n",
    "            references.append(reference)\n",
    "            Bleu_score_single=sentence_bleu(reference,sampled_predict,weights=(0.45,0.45,0.05,0.05),smoothing_function=smoothing.method2)\n",
    "            Score_single.append(Bleu_score_single) \n",
    "        \n",
    "        \n",
    "        Bleu_score_total=sentence_bleu(references,sampled_predict,weights=(0.45,0.45,0.05,0.05),smoothing_function=smoothing.method2)       \n",
    "        Score.append(Bleu_score_total)\n",
    "\n",
    "\n",
    "    avg_loss = torch.mean(torch.Tensor(total_loss))\n",
    "    max_Score=max(Score)\n",
    "    avg_Score=statistics.mean(Score)\n",
    "\n",
    "    print(avg_loss)\n",
    "    print(max_Score)\n",
    "    print(avg_Score)\n",
    "\n",
    "with open(data_root+\"/score_rnn.txt\", \"wb\") as fp:   \n",
    "    pickle.dump(Score, fp)\n",
    "with open(data_root+\"/total_loss_rnn.txt\", \"wb\") as fp:   \n",
    "    pickle.dump(total_loss, fp)\n",
    "with open(data_root+\"/Score_single_rnn.txt\", \"wb\") as fp:   \n",
    "    pickle.dump(Score_single, fp)\n",
    "\n",
    "np.save(data_root+\"/caption_sentence_rnn\",np.array(caption_sentence))\n",
    "np.save(data_root+\"/sentence_rnn\",np.array(sentence))\n",
    "\n",
    "# with open(data_root+\"/score_lstm.txt\", \"wb\") as fp:   \n",
    "#     pickle.dump(Score, fp)\n",
    "# with open(data_root+\"/total_loss_lstm.txt\", \"wb\") as fp:   \n",
    "#     pickle.dump(total_loss, fp)\n",
    "# with open(data_root+\"/Score_single_lstm.txt\", \"wb\") as fp:   \n",
    "#     pickle.dump(Score_single, fp)\n",
    "\n",
    "# np.save(data_root+\"/caption_sentence_LSTM\",np.array(caption_sentence))\n",
    "# np.save(data_root+\"/sentence_LSTM\",np.array(sentence))\n",
    "\n",
    "\n",
    "\n",
    "\n",
    "\n",
    "\n"
   ]
  },
  {
   "cell_type": "code",
   "execution_count": null,
   "metadata": {
    "id": "hSdrSiV4-kej"
   },
   "outputs": [],
   "source": [
    "import torch\n",
    "import torch.utils.data as data\n",
    "import numpy as np\n",
    "import os\n",
    "import pickle\n",
    "data_root='/drive/My Drive/Colab Notebooks' \n",
    "\n",
    "with open(data_root+\"/score_lstm.txt\", \"rb\") as fp:   # Unpickling\n",
    "     score_lstm = pickle.load(fp)\n",
    "# with open(data_root+\"/total_loss_lstm.txt\", \"rb\") as fp:   # Unpickling\n",
    "#      total_loss_lstm = pickle.load(fp)\n",
    "with open(data_root+\"/Score_single_lstm.txt\", \"rb\") as fp:   # Unpickling\n",
    "     Score_single_lstm = pickle.load(fp)\n",
    "\n",
    "caption_sentence_lstm=np.load(data_root+\"/caption_sentence_LSTM.npy\")\n",
    "sentence_lstm=np.load(data_root+\"/sentence_LSTM.npy\")\n",
    "\n",
    "with open(data_root+\"/score_rnn.txt\", \"rb\") as fp:   # Unpickling\n",
    "     score_rnn = pickle.load(fp)\n",
    "# with open(data_root+\"/total_loss_rnn.txt\", \"rb\") as fp:   # Unpickling\n",
    "#      total_loss_rnn = pickle.load(fp)\n",
    "with open(data_root+\"/Score_single_rnn.txt\", \"rb\") as fp:   # Unpickling\n",
    "     Score_single_rnn = pickle.load(fp)\n",
    "\n",
    "caption_sentence_rnn=np.load(data_root+\"/caption_sentence_rnn.npy\")\n",
    "sentence_rnn=np.load(data_root+\"/sentence_rnn.npy\")\n",
    "\n",
    "# loss_lstm=[]\n",
    "# loss_rnn=[]\n",
    "# for i in range(len(total_loss_lstm)):\n",
    "#     loss_lstm.append(total_loss_lstm[i].cpu().numpy())\n",
    "# for i in range(len(total_loss_rnn)):\n",
    "#     loss_rnn.append(total_loss_rnn[i].cpu().numpy())\n",
    "\n",
    "# diff_loss= np.array(loss_lstm)-np.array(loss_rnn)\n",
    "# max_diff=max(diff_loss)\n",
    "# min_diff=max(diff_loss)\n",
    "\n",
    "# print(max_diff,min_diff)\n"
   ]
  },
  {
   "cell_type": "code",
   "execution_count": null,
   "metadata": {
    "colab": {
     "base_uri": "https://localhost:8080/",
     "height": 34
    },
    "id": "7zgu26KHjuT6",
    "outputId": "0671353b-ba23-416f-ea9e-50a38b17a91e"
   },
   "outputs": [
    {
     "name": "stdout",
     "output_type": "stream",
     "text": [
      "0.7143239563978692 -0.43121331812725827\n"
     ]
    }
   ],
   "source": [
    "diff_score= np.array(score_lstm)-np.array(score_rnn)\n",
    "max_diff=max(diff_score)\n",
    "min_diff=min(diff_score)\n",
    "print(max_diff,min_diff)"
   ]
  },
  {
   "cell_type": "code",
   "execution_count": null,
   "metadata": {
    "colab": {
     "base_uri": "https://localhost:8080/",
     "height": 294
    },
    "id": "wP9_n9k4Qv9C",
    "outputId": "06616537-158f-4f2a-d4b3-84808da1bbe2"
   },
   "outputs": [
    {
     "data": {
      "image/png": "[encoded data removed]",
      "text/plain": [
       "<Figure size 432x288 with 1 Axes>"
      ]
     },
     "metadata": {
      "needs_background": "light",
      "tags": []
     },
     "output_type": "display_data"
    }
   ],
   "source": [
    "import matplotlib.pyplot as plt                                                                                                      \n",
    "import numpy as np                                                                                                                   \n",
    "x=np.arange(0,405,1)                                                                                                                                                                     \n",
    "plt.plot(x,diff_score, color = 'blue', label = 'diff_score')\n",
    "plt.axhline(y=0,color='r',linestyle='-')                                                          \n",
    "plt.xlabel(\"image\")\n",
    "plt.ylabel('score difference')  \n",
    "plt.title(\"Difference of BELU score between LSTM and RNN\")                                                                                                                                                                                       \n",
    "plt.show() \n"
   ]
  },
  {
   "cell_type": "code",
   "execution_count": null,
   "metadata": {
    "id": "biuzXCgLV4-y"
   },
   "outputs": [],
   "source": [
    "L=len(sentence_lstm)\n",
    "D=np.arange(0,L, round(L/10))\n",
    "D[-1]=405\n",
    "\n",
    "import statistics\n",
    "\n",
    "def generate_short_long_sentence(sentence,score):\n",
    "    length=[]\n",
    "    stat=[]\n",
    "    for i, sen in enumerate (sentence):\n",
    "        length.append(len(sen.split()))\n",
    "    leng=sorted(length)\n",
    "    ave_leng=statistics.mean(leng)\n",
    "    sort_index=(np.array(length)).argsort()\n",
    "    for i in range(1,11):\n",
    "        prop_index=sort_index[D[i-1]:D[i]]\n",
    "        prop_length=statistics.mean(leng[D[i-1]:D[i]])\n",
    "        prop_score=statistics.mean(np.array(score)[prop_index])\n",
    "        stat.extend([prop_length,prop_score])\n",
    "    return stat,ave_leng\n",
    "\n"
   ]
  },
  {
   "cell_type": "code",
   "execution_count": null,
   "metadata": {
    "colab": {
     "base_uri": "https://localhost:8080/",
     "height": 34
    },
    "id": "vdpPfOIQgVaw",
    "outputId": "121fb43f-dcd5-4b97-f4ae-3dfb61323971"
   },
   "outputs": [
    {
     "data": {
      "text/plain": [
       "[10.355555555555556, 8, 12.15, 0.4777028616115563, 0.3689738648493813]"
      ]
     },
     "execution_count": 75,
     "metadata": {
      "tags": []
     },
     "output_type": "execute_result"
    }
   ],
   "source": [
    "stat_lstm=generate_short_long_sentence(sentence_lstm,score_lstm)\n",
    "stat_rnn=generate_short_long_sentence(sentence_rnn,score_rnn)\n",
    "stat_lstm\n"
   ]
  },
  {
   "cell_type": "code",
   "execution_count": null,
   "metadata": {
    "id": "jwrTill8Ul-D"
   },
   "outputs": [],
   "source": [
    "def generate_short_long_caption(sentence,caption_sentence,score):\n",
    "    cap1_score=[]\n",
    "    cap2_score=[]\n",
    "    cap3_score=[]\n",
    "    cap4_score=[]\n",
    "    cap5_score=[]\n",
    "    for i, sen in enumerate (sentence):\n",
    "        length=[]\n",
    "        single_score=score[i*5:i*5+5]\n",
    "        for cap in caption_sentence[i*5:i*5+5]:\n",
    "            length.append(len(cap.split()))\n",
    "        leng=sorted(length)\n",
    "        sort_index=(np.array(length)).argsort()\n",
    "        caption1=sort_index[0]\n",
    "        caption2=sort_index[1]\n",
    "        caption3=sort_index[2]\n",
    "        caption4=sort_index[3]\n",
    "        caption5=sort_index[4]\n",
    "        cap1_score.append(np.array(single_score)[caption1])\n",
    "        cap2_score.append(np.array(single_score)[caption2])\n",
    "        cap3_score.append(np.array(single_score)[caption3])\n",
    "        cap4_score.append(np.array(single_score)[caption4])\n",
    "        cap5_score.append(np.array(single_score)[caption5])\n",
    "    return cap1_score,cap2_score,cap3_score,cap4_score,cap5_score"
   ]
  },
  {
   "cell_type": "code",
   "execution_count": null,
   "metadata": {
    "id": "JQYe5-dGBqXW"
   },
   "outputs": [],
   "source": [
    "single_lstm=generate_short_long_caption(sentence_lstm,caption_sentence_lstm,Score_single_lstm)\n",
    "single_rnn=generate_short_long_caption(sentence_rnn,caption_sentence_rnn,Score_single_rnn)\n",
    "diff1=np.array(single_lstm[0])-np.array(single_rnn[0])\n",
    "diff2=np.array(single_lstm[1])-np.array(single_rnn[1])\n",
    "diff3=np.array(single_lstm[2])-np.array(single_rnn[2])\n",
    "diff4=np.array(single_lstm[3])-np.array(single_rnn[3])\n",
    "diff5=np.array(single_lstm[4])-np.array(single_rnn[4])"
   ]
  },
  {
   "cell_type": "code",
   "execution_count": null,
   "metadata": {
    "colab": {
     "base_uri": "https://localhost:8080/",
     "height": 34
    },
    "id": "5OcTkVIpFmMi",
    "outputId": "e73c8bd3-67e9-4bda-892b-2db51f69d653"
   },
   "outputs": [
    {
     "data": {
      "text/plain": [
       "-0.005393087102448577"
      ]
     },
     "execution_count": 59,
     "metadata": {
      "tags": []
     },
     "output_type": "execute_result"
    }
   ],
   "source": [
    "import statistics\n",
    "statistics.mean(diff5)\n"
   ]
  },
  {
   "cell_type": "code",
   "execution_count": null,
   "metadata": {
    "colab": {
     "base_uri": "https://localhost:8080/",
     "height": 1000
    },
    "collapsed": true,
    "id": "OldtoLBGkTGG",
    "outputId": "2f137088-7893-4b64-9a24-a7af0eba9aaa"
   },
   "outputs": [
    {
     "name": "stdout",
     "output_type": "stream",
     "text": [
      "0 2.612901\n",
      "0 1.000000\n",
      "0 0.384700\n",
      "10 2.620294\n",
      "10 1.000000\n",
      "10 0.394613\n",
      "20 2.613599\n",
      "20 1.000000\n",
      "20 0.393151\n",
      "30 2.620571\n",
      "30 1.000000\n",
      "30 0.390063\n",
      "40 2.626421\n",
      "40 1.000000\n",
      "40 0.382793\n",
      "50 2.632714\n",
      "50 0.965936\n",
      "50 0.353220\n",
      "60 2.621273\n",
      "60 1.000000\n",
      "60 0.370099\n",
      "70 2.616544\n",
      "70 0.993346\n",
      "70 0.362338\n",
      "80 2.629526\n",
      "80 1.000000\n",
      "80 0.358706\n",
      "90 2.621149\n",
      "90 1.000000\n",
      "90 0.368911\n",
      "100 2.618364\n",
      "100 1.000000\n",
      "100 0.388078\n",
      "110 2.608136\n",
      "110 0.990925\n",
      "110 0.376880\n",
      "120 2.606964\n",
      "120 0.990925\n",
      "120 0.374050\n",
      "130 2.601155\n",
      "130 0.993346\n",
      "130 0.393674\n",
      "140 2.604571\n",
      "140 1.000000\n",
      "140 0.395532\n",
      "150 2.610748\n",
      "150 0.983317\n",
      "150 0.387855\n",
      "160 2.596240\n",
      "160 0.983317\n",
      "160 0.386849\n",
      "170 2.590369\n",
      "170 1.000000\n",
      "170 0.387422\n",
      "180 2.591823\n",
      "180 1.000000\n",
      "180 0.388577\n",
      "190 2.597729\n",
      "190 0.990925\n",
      "190 0.384560\n",
      "200 2.595628\n",
      "200 1.000000\n",
      "200 0.395461\n",
      "210 2.605636\n",
      "210 0.972407\n",
      "210 0.381463\n",
      "220 2.598003\n",
      "220 0.985719\n",
      "220 0.374383\n",
      "230 2.591707\n",
      "230 0.977654\n",
      "230 0.380509\n",
      "240 2.598599\n",
      "240 0.947388\n",
      "240 0.367879\n",
      "250 2.584662\n",
      "250 0.993346\n",
      "250 0.394858\n",
      "260 2.581159\n",
      "260 1.000000\n",
      "260 0.389967\n",
      "270 2.586813\n",
      "270 1.000000\n",
      "270 0.390997\n",
      "280 2.585437\n",
      "280 1.000000\n",
      "280 0.390463\n",
      "290 2.578576\n",
      "290 1.000000\n",
      "290 0.381482\n",
      "300 2.590474\n",
      "300 1.000000\n",
      "300 0.357981\n"
     ]
    }
   ],
   "source": [
    "import torch\n",
    "import torch.utils.data as data\n",
    "import numpy as np\n",
    "import os\n",
    "import pickle\n",
    "from nltk.translate.bleu_score import sentence_bleu, SmoothingFunction\n",
    "import statistics\n",
    "model_path=F'/drive/My Drive/Colab Notebooks/Flickr8k' \n",
    "data_root='/drive/My Drive/Colab Notebooks' \n",
    "model_type =\"RNN\"\n",
    "#model_type =\"LSTM\" \n",
    "smoothing = SmoothingFunction()\n",
    "\n",
    "with open(vocab_path,'rb') as f:\n",
    "    vocab=pickle.load(f)\n",
    " #iteration from epoch 3 to 5\n",
    "for iteration in range (0,310,10): \n",
    "    \n",
    "    # encoder_path=os.path.join(model_path,'rencoder-{}-{}.ckpt'.format(5,iteration))\n",
    "    # decoder_path=os.path.join(model_path,'rdecoder-{}-{}.ckpt'.format(5,iteration))\n",
    "    \n",
    "    encoder_path=os.path.join(model_path,'encoder-{}-{}.ckpt'.format(5, iteration))\n",
    "    decoder_path=os.path.join(model_path,'decoder-{}-{}.ckpt'.format(5, iteration))\n",
    "\n",
    "\n",
    "###iteration\n",
    "    encoder.load_state_dict(torch.load(encoder_path))\n",
    "    decoder.load_state_dict(torch.load(decoder_path)) \n",
    "    encoder= encoder.to(device)\n",
    "    decoder= decoder.to(device)  \n",
    "    decoder.eval()\n",
    "    encoder.eval()\n",
    "    total_loss = []\n",
    "    Score =[]\n",
    "    Score_single=[]\n",
    "    sentence=[]\n",
    "    caption_sentence=[]\n",
    "\n",
    "    with torch.no_grad():\n",
    "        for i, (images, captions, lengths) in enumerate(test_loader):\n",
    "\n",
    "            # Set mini-batch dataset\n",
    "            images = images.to(device)\n",
    "            captions = captions.to(device)\n",
    "\n",
    "            # Packed as well as we'll compare to the decoder outputs\n",
    "            targets = pack_padded_sequence(captions, lengths, batch_first=True)[0]\n",
    "\n",
    "            features = encoder(images)\n",
    "            outputs = decoder(features, captions, lengths)\n",
    "            loss = criterion(outputs, targets)\n",
    "            total_loss.append(loss)\n",
    "\n",
    "            \n",
    "            decoder.sample(features)\n",
    "            sampled_ids=decoder.sample(features)\n",
    "            \n",
    "            sampled_id=sampled_ids[0].cpu().numpy()\n",
    "        \n",
    "\n",
    "            sampled_predict = []\n",
    "            for word_id in sampled_id:\n",
    "                word = vocab.idx2word[word_id]\n",
    "                if word =='<start>': \n",
    "                    continue \n",
    "                sampled_predict.append(word)\n",
    "                if word == '<end>':\n",
    "                    break\n",
    "            sampled_predict=sampled_predict[:-1]\n",
    "            sentence.append(' '.join(sampled_predict))\n",
    "\n",
    "            references=[]\n",
    "            caption=captions.cpu().numpy()\n",
    "            for cap in caption:\n",
    "                reference=[]\n",
    "                for word_id in cap:\n",
    "                    word = vocab.idx2word[word_id]\n",
    "                    if word =='<start>': \n",
    "                        continue \n",
    "                    reference.append(word)\n",
    "                    if word == '<end>':\n",
    "                        break\n",
    "                reference=reference[:-1]\n",
    "                caption_sentence.append(' '.join(reference))\n",
    "                references.append(reference)\n",
    "                Bleu_score_single=sentence_bleu(reference,sampled_predict,weights=(0.45,0.45,0.05,0.05),smoothing_function=smoothing.method2)\n",
    "                Score_single.append(Bleu_score_single) \n",
    "            \n",
    "            \n",
    "            Bleu_score_total=sentence_bleu(references,sampled_predict,weights=(0.45,0.45,0.05,0.05),smoothing_function=smoothing.method2)       \n",
    "            Score.append(Bleu_score_total)\n",
    "\n",
    "\n",
    "    avg_loss = torch.mean(torch.Tensor(total_loss))\n",
    "    max_Score=max(Score)\n",
    "    avg_Score=statistics.mean(Score)\n",
    "\n",
    "    print('%d %f' %(iteration,avg_loss))\n",
    "    print('%d %f' %(iteration,max_Score))\n",
    "    print('%d %f' %(iteration,avg_Score))\n",
    "\n",
    "\n"
   ]
  },
  {
   "cell_type": "code",
   "execution_count": null,
   "metadata": {
    "colab": {
     "base_uri": "https://localhost:8080/",
     "height": 371
    },
    "collapsed": true,
    "id": "e_eeAy8SzCps",
    "outputId": "7ad7e271-b638-4098-a865-411bf469a2cf"
   },
   "outputs": [
    {
     "ename": "FileNotFoundError",
     "evalue": "ignored",
     "output_type": "error",
     "traceback": [
      "\u001b[0;31m---------------------------------------------------------------------------\u001b[0m",
      "\u001b[0;31mFileNotFoundError\u001b[0m                         Traceback (most recent call last)",
      "\u001b[0;32m<ipython-input-1-d11d77ea7da0>\u001b[0m in \u001b[0;36m<module>\u001b[0;34m()\u001b[0m\n\u001b[1;32m     10\u001b[0m \u001b[0mmodel_path\u001b[0m\u001b[0;34m=\u001b[0m\u001b[0;34mF'/drive/My Drive/Colab Notebooks/Flickr8k'\u001b[0m\u001b[0;34m\u001b[0m\u001b[0;34m\u001b[0m\u001b[0m\n\u001b[1;32m     11\u001b[0m \u001b[0mdata_root\u001b[0m\u001b[0;34m=\u001b[0m\u001b[0;34m'/drive/My Drive/Colab Notebooks'\u001b[0m\u001b[0;34m\u001b[0m\u001b[0;34m\u001b[0m\u001b[0m\n\u001b[0;32m---> 12\u001b[0;31m \u001b[0mscore_lstm\u001b[0m\u001b[0;34m=\u001b[0m\u001b[0mtorch\u001b[0m\u001b[0;34m.\u001b[0m\u001b[0mload\u001b[0m\u001b[0;34m(\u001b[0m\u001b[0mdata_root\u001b[0m\u001b[0;34m+\u001b[0m\u001b[0;34m'/Score_LSTM'\u001b[0m \u001b[0;34m)\u001b[0m\u001b[0;34m\u001b[0m\u001b[0;34m\u001b[0m\u001b[0m\n\u001b[0m\u001b[1;32m     13\u001b[0m \u001b[0;34m\u001b[0m\u001b[0m\n\u001b[1;32m     14\u001b[0m \u001b[0;34m\u001b[0m\u001b[0m\n",
      "\u001b[0;32m/usr/local/lib/python3.6/dist-packages/torch/serialization.py\u001b[0m in \u001b[0;36mload\u001b[0;34m(f, map_location, pickle_module, **pickle_load_args)\u001b[0m\n\u001b[1;32m    523\u001b[0m         \u001b[0mpickle_load_args\u001b[0m\u001b[0;34m[\u001b[0m\u001b[0;34m'encoding'\u001b[0m\u001b[0;34m]\u001b[0m \u001b[0;34m=\u001b[0m \u001b[0;34m'utf-8'\u001b[0m\u001b[0;34m\u001b[0m\u001b[0;34m\u001b[0m\u001b[0m\n\u001b[1;32m    524\u001b[0m \u001b[0;34m\u001b[0m\u001b[0m\n\u001b[0;32m--> 525\u001b[0;31m     \u001b[0;32mwith\u001b[0m \u001b[0m_open_file_like\u001b[0m\u001b[0;34m(\u001b[0m\u001b[0mf\u001b[0m\u001b[0;34m,\u001b[0m \u001b[0;34m'rb'\u001b[0m\u001b[0;34m)\u001b[0m \u001b[0;32mas\u001b[0m \u001b[0mopened_file\u001b[0m\u001b[0;34m:\u001b[0m\u001b[0;34m\u001b[0m\u001b[0;34m\u001b[0m\u001b[0m\n\u001b[0m\u001b[1;32m    526\u001b[0m         \u001b[0;32mif\u001b[0m \u001b[0m_is_zipfile\u001b[0m\u001b[0;34m(\u001b[0m\u001b[0mopened_file\u001b[0m\u001b[0;34m)\u001b[0m\u001b[0;34m:\u001b[0m\u001b[0;34m\u001b[0m\u001b[0;34m\u001b[0m\u001b[0m\n\u001b[1;32m    527\u001b[0m             \u001b[0;32mwith\u001b[0m \u001b[0m_open_zipfile_reader\u001b[0m\u001b[0;34m(\u001b[0m\u001b[0mf\u001b[0m\u001b[0;34m)\u001b[0m \u001b[0;32mas\u001b[0m \u001b[0mopened_zipfile\u001b[0m\u001b[0;34m:\u001b[0m\u001b[0;34m\u001b[0m\u001b[0;34m\u001b[0m\u001b[0m\n",
      "\u001b[0;32m/usr/local/lib/python3.6/dist-packages/torch/serialization.py\u001b[0m in \u001b[0;36m_open_file_like\u001b[0;34m(name_or_buffer, mode)\u001b[0m\n\u001b[1;32m    210\u001b[0m \u001b[0;32mdef\u001b[0m \u001b[0m_open_file_like\u001b[0m\u001b[0;34m(\u001b[0m\u001b[0mname_or_buffer\u001b[0m\u001b[0;34m,\u001b[0m \u001b[0mmode\u001b[0m\u001b[0;34m)\u001b[0m\u001b[0;34m:\u001b[0m\u001b[0;34m\u001b[0m\u001b[0;34m\u001b[0m\u001b[0m\n\u001b[1;32m    211\u001b[0m     \u001b[0;32mif\u001b[0m \u001b[0m_is_path\u001b[0m\u001b[0;34m(\u001b[0m\u001b[0mname_or_buffer\u001b[0m\u001b[0;34m)\u001b[0m\u001b[0;34m:\u001b[0m\u001b[0;34m\u001b[0m\u001b[0;34m\u001b[0m\u001b[0m\n\u001b[0;32m--> 212\u001b[0;31m         \u001b[0;32mreturn\u001b[0m \u001b[0m_open_file\u001b[0m\u001b[0;34m(\u001b[0m\u001b[0mname_or_buffer\u001b[0m\u001b[0;34m,\u001b[0m \u001b[0mmode\u001b[0m\u001b[0;34m)\u001b[0m\u001b[0;34m\u001b[0m\u001b[0;34m\u001b[0m\u001b[0m\n\u001b[0m\u001b[1;32m    213\u001b[0m     \u001b[0;32melse\u001b[0m\u001b[0;34m:\u001b[0m\u001b[0;34m\u001b[0m\u001b[0;34m\u001b[0m\u001b[0m\n\u001b[1;32m    214\u001b[0m         \u001b[0;32mif\u001b[0m \u001b[0;34m'w'\u001b[0m \u001b[0;32min\u001b[0m \u001b[0mmode\u001b[0m\u001b[0;34m:\u001b[0m\u001b[0;34m\u001b[0m\u001b[0;34m\u001b[0m\u001b[0m\n",
      "\u001b[0;32m/usr/local/lib/python3.6/dist-packages/torch/serialization.py\u001b[0m in \u001b[0;36m__init__\u001b[0;34m(self, name, mode)\u001b[0m\n\u001b[1;32m    191\u001b[0m \u001b[0;32mclass\u001b[0m \u001b[0m_open_file\u001b[0m\u001b[0;34m(\u001b[0m\u001b[0m_opener\u001b[0m\u001b[0;34m)\u001b[0m\u001b[0;34m:\u001b[0m\u001b[0;34m\u001b[0m\u001b[0;34m\u001b[0m\u001b[0m\n\u001b[1;32m    192\u001b[0m     \u001b[0;32mdef\u001b[0m \u001b[0m__init__\u001b[0m\u001b[0;34m(\u001b[0m\u001b[0mself\u001b[0m\u001b[0;34m,\u001b[0m \u001b[0mname\u001b[0m\u001b[0;34m,\u001b[0m \u001b[0mmode\u001b[0m\u001b[0;34m)\u001b[0m\u001b[0;34m:\u001b[0m\u001b[0;34m\u001b[0m\u001b[0;34m\u001b[0m\u001b[0m\n\u001b[0;32m--> 193\u001b[0;31m         \u001b[0msuper\u001b[0m\u001b[0;34m(\u001b[0m\u001b[0m_open_file\u001b[0m\u001b[0;34m,\u001b[0m \u001b[0mself\u001b[0m\u001b[0;34m)\u001b[0m\u001b[0;34m.\u001b[0m\u001b[0m__init__\u001b[0m\u001b[0;34m(\u001b[0m\u001b[0mopen\u001b[0m\u001b[0;34m(\u001b[0m\u001b[0mname\u001b[0m\u001b[0;34m,\u001b[0m \u001b[0mmode\u001b[0m\u001b[0;34m)\u001b[0m\u001b[0;34m)\u001b[0m\u001b[0;34m\u001b[0m\u001b[0;34m\u001b[0m\u001b[0m\n\u001b[0m\u001b[1;32m    194\u001b[0m \u001b[0;34m\u001b[0m\u001b[0m\n\u001b[1;32m    195\u001b[0m     \u001b[0;32mdef\u001b[0m \u001b[0m__exit__\u001b[0m\u001b[0;34m(\u001b[0m\u001b[0mself\u001b[0m\u001b[0;34m,\u001b[0m \u001b[0;34m*\u001b[0m\u001b[0margs\u001b[0m\u001b[0;34m)\u001b[0m\u001b[0;34m:\u001b[0m\u001b[0;34m\u001b[0m\u001b[0;34m\u001b[0m\u001b[0m\n",
      "\u001b[0;31mFileNotFoundError\u001b[0m: [Errno 2] No such file or directory: '/drive/My Drive/Colab Notebooks/Score_LSTM'"
     ]
    }
   ],
   "source": [
    "\n",
    "import torch\n",
    "import torch.utils.data as data\n",
    "import numpy as np\n",
    "import os\n",
    "import pickle\n",
    "from nltk.translate.bleu_score import sentence_bleu, SmoothingFunction\n",
    "import statistics\n",
    "\n",
    "model_path=F'/drive/My Drive/Colab Notebooks/Flickr8k' \n",
    "data_root='/drive/My Drive/Colab Notebooks' \n",
    "score_lstm=torch.load(data_root+'/Score_LSTM' )\n",
    "\n",
    "\n",
    "\n",
    "\n",
    "    \n",
    "    \n",
    "    \n",
    "    "
   ]
  },
  {
   "cell_type": "code",
   "execution_count": null,
   "metadata": {
    "id": "oUU3T3QC1Iee"
   },
   "outputs": [],
   "source": [
    "torch.save(torch.Tensor(total_loss), data_root+'/total_loss_LSTM' )\n",
    "torch.save(torch.Tensor(Score_single), data_root+'/Score_single_LSTM')   \n",
    "np.save(data_root+\"/caption_sentence_LSTM\",np.array(caption_sentence))\n",
    "np.save(data_root+\"/sentence_LSTM\",np.array(sentence))"
   ]
  }
 ],
 "metadata": {
  "colab": {
   "collapsed_sections": [],
   "name": "COMP5623_CW2_Starter_08.ipynb",
   "provenance": []
  },
  "kernelspec": {
   "display_name": "Python 3",
   "language": "python",
   "name": "python3"
  },
  "language_info": {
   "codemirror_mode": {
    "name": "ipython",
    "version": 3
   },
   "file_extension": ".py",
   "mimetype": "text/x-python",
   "name": "python",
   "nbconvert_exporter": "python",
   "pygments_lexer": "ipython3",
   "version": "3.8.5"
  }
 },
 "nbformat": 4,
 "nbformat_minor": 1
}
